{
  "nbformat": 4,
  "nbformat_minor": 0,
  "metadata": {
    "colab": {
      "provenance": []
    },
    "kernelspec": {
      "name": "python3",
      "display_name": "Python 3"
    },
    "language_info": {
      "name": "python"
    }
  },
  "cells": [
    {
      "cell_type": "markdown",
      "source": [
        "IMPORT LIBRARY"
      ],
      "metadata": {
        "id": "QMOmhStemyTQ"
      }
    },
    {
      "cell_type": "code",
      "execution_count": null,
      "metadata": {
        "id": "xHozIX1pen90"
      },
      "outputs": [],
      "source": [
        "import pandas as pd\n",
        "import matplotlib.pyplot as plt\n",
        "#%matplotlib inline\n",
        "import seaborn as sns"
      ]
    },
    {
      "cell_type": "markdown",
      "source": [
        "IMPORT FILE CSV"
      ],
      "metadata": {
        "id": "7N2TvwSam0nO"
      }
    },
    {
      "cell_type": "code",
      "source": [
        "df = pd.read_csv('ds_salaries.csv')"
      ],
      "metadata": {
        "id": "iGCdTZa8mkbO"
      },
      "execution_count": null,
      "outputs": []
    },
    {
      "cell_type": "code",
      "source": [
        "df.head()"
      ],
      "metadata": {
        "id": "zV2EJvP8msOV"
      },
      "execution_count": null,
      "outputs": []
    },
    {
      "cell_type": "markdown",
      "source": [
        "# 1 Exploratory Data Analysis\n",
        "\n",
        "\n"
      ],
      "metadata": {
        "id": "Or1VEu6Am3xk"
      }
    },
    {
      "cell_type": "markdown",
      "source": [
        "## 1.1 Check Null Values"
      ],
      "metadata": {
        "id": "0ZVIcuJHnewc"
      }
    },
    {
      "cell_type": "code",
      "source": [],
      "metadata": {
        "id": "e8i6F2Yem3Tm"
      },
      "execution_count": null,
      "outputs": []
    },
    {
      "cell_type": "markdown",
      "source": [
        "## 1.2 Check Duplicate Data"
      ],
      "metadata": {
        "id": "CZuYC3MAmwAN"
      }
    },
    {
      "cell_type": "code",
      "source": [],
      "metadata": {
        "id": "VDiTdIMNoKSS"
      },
      "execution_count": null,
      "outputs": []
    },
    {
      "cell_type": "code",
      "source": [],
      "metadata": {
        "id": "eJNeBOwZoESi"
      },
      "execution_count": null,
      "outputs": []
    },
    {
      "cell_type": "code",
      "source": [],
      "metadata": {
        "id": "Eqr7y5_0oj7r"
      },
      "execution_count": null,
      "outputs": []
    },
    {
      "cell_type": "markdown",
      "source": [
        "### Copy Data"
      ],
      "metadata": {
        "id": "0-7pTM_1onJf"
      }
    },
    {
      "cell_type": "code",
      "source": [],
      "metadata": {
        "id": "noh25HMJomY0"
      },
      "execution_count": null,
      "outputs": []
    },
    {
      "cell_type": "code",
      "source": [],
      "metadata": {
        "id": "NuVtyxE_owwI"
      },
      "execution_count": null,
      "outputs": []
    },
    {
      "cell_type": "code",
      "source": [],
      "metadata": {
        "id": "8KQKFT4lo3iA"
      },
      "execution_count": null,
      "outputs": []
    },
    {
      "cell_type": "markdown",
      "source": [
        "### Delete Duplicate Data"
      ],
      "metadata": {
        "id": "pMwQ_sP0pFsR"
      }
    },
    {
      "cell_type": "code",
      "source": [],
      "metadata": {
        "id": "9ZS1wBYFpHm4"
      },
      "execution_count": null,
      "outputs": []
    },
    {
      "cell_type": "code",
      "source": [],
      "metadata": {
        "id": "mN5nfmJApWXR"
      },
      "execution_count": null,
      "outputs": []
    },
    {
      "cell_type": "markdown",
      "source": [
        "## 1.3 Check Unique Values in Each Column"
      ],
      "metadata": {
        "id": "Dwo5gX55pZsr"
      }
    },
    {
      "cell_type": "markdown",
      "source": [
        "### Check Data Type"
      ],
      "metadata": {
        "id": "JSnKpjW7pnjd"
      }
    },
    {
      "cell_type": "code",
      "source": [],
      "metadata": {
        "id": "4ckmyT4Qpj56"
      },
      "execution_count": null,
      "outputs": []
    },
    {
      "cell_type": "markdown",
      "source": [
        "### Check Data stats"
      ],
      "metadata": {
        "id": "2wBMcGYYps1x"
      }
    },
    {
      "cell_type": "code",
      "source": [],
      "metadata": {
        "id": "momu1Mo3pvSz"
      },
      "execution_count": null,
      "outputs": []
    },
    {
      "cell_type": "markdown",
      "source": [
        "### Check Columns"
      ],
      "metadata": {
        "id": "Q2ML4N9Qp2OC"
      }
    },
    {
      "cell_type": "code",
      "source": [],
      "metadata": {
        "id": "a65Zc4Kgp4Ro"
      },
      "execution_count": null,
      "outputs": []
    },
    {
      "cell_type": "markdown",
      "source": [
        "### Unique Valeus Check"
      ],
      "metadata": {
        "id": "UjOXFV24qC9s"
      }
    },
    {
      "cell_type": "code",
      "source": [],
      "metadata": {
        "id": "0RgLtrTnqFnx"
      },
      "execution_count": null,
      "outputs": []
    },
    {
      "cell_type": "markdown",
      "source": [
        "## 1.4 Rename Value for Better Understanding"
      ],
      "metadata": {
        "id": "yLmtaL1arOIB"
      }
    },
    {
      "cell_type": "code",
      "source": [],
      "metadata": {
        "id": "PDSJfE4ArSdW"
      },
      "execution_count": null,
      "outputs": []
    },
    {
      "cell_type": "markdown",
      "source": [
        "## 1.5 Group the Job title"
      ],
      "metadata": {
        "id": "lxEROrgBtMAz"
      }
    },
    {
      "cell_type": "markdown",
      "source": [
        "### Check Job Title"
      ],
      "metadata": {
        "id": "l9Xo7fDAsMvY"
      }
    },
    {
      "cell_type": "code",
      "source": [],
      "metadata": {
        "id": "JyE5hcWcsEen"
      },
      "execution_count": null,
      "outputs": []
    },
    {
      "cell_type": "markdown",
      "source": [
        "### Grouping Function"
      ],
      "metadata": {
        "id": "B0cV9KGOsTkl"
      }
    },
    {
      "cell_type": "code",
      "source": [
        "def assign_broader_category(job_title):\n",
        "  data_engineering = [\"Data Engineer\", \"Data Analyst\", \"Analytics Engineer\", \"BI Data Analyst\", \"Business Data Analyst\", \"BI Developer\", \"BI Analyst\", \"Business Intelligence Engineer\", \"BI Data Engineer\", \"Power BI Developer\"]\n",
        "  data_scientist = [\"Data Scientist\", \"Applied Scientist\", \"Research Scientist\", \"3D Computer Vision Researcher\", \"Deep Learning Researcher\", \"AI/Computer Vision Engineer\"]\n",
        "  machine_learning = [\"Machine Learning Engineer\", \"ML Engineer\", \"Lead Machine Learning Engineer\", \"Principal Machine Learning Engineer\"]\n",
        "  data_architecture = [\"Data Architect\", \"Big Data Architect\", \"Cloud Data Architect\", \"Principal Data Architect\"]\n",
        "  management = [\"Data Science Manager\", \"Director of Data Science\", \"Head of Data Science\", \"Data Scientist Lead\", \"Head of Machine Learning\", \"Manager Data Management\", \"Data Analytics Manager\"]\n",
        "\n",
        "  return null #change this"
      ],
      "metadata": {
        "id": "Q0YZ4L7MsQ_O"
      },
      "execution_count": null,
      "outputs": []
    },
    {
      "cell_type": "code",
      "source": [],
      "metadata": {
        "id": "qCCPK1GtshyC"
      },
      "execution_count": null,
      "outputs": []
    },
    {
      "cell_type": "code",
      "source": [],
      "metadata": {
        "id": "0EEyDDN6s48n"
      },
      "execution_count": null,
      "outputs": []
    },
    {
      "cell_type": "code",
      "source": [],
      "metadata": {
        "id": "81GvB7bbsxZE"
      },
      "execution_count": null,
      "outputs": []
    },
    {
      "cell_type": "markdown",
      "source": [
        "## 1.6 Adjust Salary to Present Values"
      ],
      "metadata": {
        "id": "QaseEtC1tVTY"
      }
    },
    {
      "cell_type": "code",
      "source": [],
      "metadata": {
        "id": "CNJY_InCt8mO"
      },
      "execution_count": null,
      "outputs": []
    },
    {
      "cell_type": "markdown",
      "source": [
        "### Inflation Rate"
      ],
      "metadata": {
        "id": "ZIeCaiD7teT_"
      }
    },
    {
      "cell_type": "code",
      "source": [
        "# Inflation rates\n",
        "us_inflation_rates = {2019: 0.0181,\n",
        "                      2020: 0.0123,\n",
        "                      2021: 0.0470,\n",
        "                      2022: 0.065}\n",
        "global_inflation_rates = {2019: 0.0219,\n",
        "                          2020: 0.0192,\n",
        "                          2021: 0.0350,\n",
        "                          2022: 0.088}\n",
        "\n",
        "def adjust_salary(x):\n",
        "\n",
        "\n",
        "    return null #Change this"
      ],
      "metadata": {
        "id": "J8dLwhqOtgTs"
      },
      "execution_count": null,
      "outputs": []
    },
    {
      "cell_type": "code",
      "source": [],
      "metadata": {
        "id": "6RdFJojgvQHP"
      },
      "execution_count": null,
      "outputs": []
    },
    {
      "cell_type": "code",
      "source": [],
      "metadata": {
        "id": "wye-m4qe3bER"
      },
      "execution_count": null,
      "outputs": []
    },
    {
      "cell_type": "markdown",
      "source": [
        "# SOAL No.1\n",
        "Show the median adjusted data scientist salary, for each experience level"
      ],
      "metadata": {
        "id": "Q-K9vkBn38sJ"
      }
    },
    {
      "cell_type": "markdown",
      "source": [
        "## JAWABAN No.1"
      ],
      "metadata": {
        "id": "8jewsRCGQ8XG"
      }
    },
    {
      "cell_type": "code",
      "source": [],
      "metadata": {
        "id": "jOhoaMKpTKGC"
      },
      "execution_count": null,
      "outputs": []
    },
    {
      "cell_type": "markdown",
      "source": [
        "# SOAL No. 2\n",
        "Show the number of records for each company_location, sorted descending"
      ],
      "metadata": {
        "id": "zsEhP58W4Dsx"
      }
    },
    {
      "cell_type": "markdown",
      "source": [
        "## JAWABAN No.2"
      ],
      "metadata": {
        "id": "cJEGiqtFQ2xG"
      }
    },
    {
      "cell_type": "code",
      "source": [],
      "metadata": {
        "id": "_HbJf-BoTXHg"
      },
      "execution_count": null,
      "outputs": []
    },
    {
      "cell_type": "markdown",
      "source": [
        "# SOAL No.3\n",
        "From this data, show the median adjusted salary of employee who works for company located in Indonesia, do you think that value represents the salary in Indonesia? why? why not?"
      ],
      "metadata": {
        "id": "5DIUucfa4PsX"
      }
    },
    {
      "cell_type": "markdown",
      "source": [
        "## JAWABAN No.3"
      ],
      "metadata": {
        "id": "zVeT1MXvRDDm"
      }
    },
    {
      "cell_type": "code",
      "source": [],
      "metadata": {
        "id": "VO2uDtO0TPV0"
      },
      "execution_count": null,
      "outputs": []
    },
    {
      "cell_type": "markdown",
      "source": [
        "**Kesimpulan** <br>\n",
        "................"
      ],
      "metadata": {
        "id": "-3o4YDHATPiu"
      }
    }
  ]
}